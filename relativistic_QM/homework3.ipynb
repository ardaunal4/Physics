{
 "cells": [
  {
   "cell_type": "code",
   "execution_count": 1,
   "id": "725e83f8",
   "metadata": {},
   "outputs": [],
   "source": [
    "from sympy import *\n",
    "from sympy.physics.quantum import Commutator, Dagger, Operator\n",
    "from sympy.physics.matrices import mgamma\n",
    "init_printing()"
   ]
  },
  {
   "cell_type": "code",
   "execution_count": 2,
   "id": "0f0490cc",
   "metadata": {},
   "outputs": [],
   "source": [
    "# Variable definitions\n",
    "var('E, Eprime, m, Pz, Pp, Pm, P, Pprime, Pzprime, Ppprime, Pmprime, Px, Py, Pz, Pxprime, Pyprime, Pzprime, x, y, z'); # pp stands for p+, pm stands for p-\n",
    "Pp = Px + 1j*Py\n",
    "Pm = Px - 1j*Py\n",
    "Ppprime = Pxprime + 1j*Pyprime\n",
    "Pmprime = Pxprime - 1j*Pyprime\n",
    "P = Matrix([[E], [Px], [Py], [Pz]])\n",
    "Pprime = Matrix([[Eprime], [Pxprime], [Pyprime], [Pzprime]])"
   ]
  },
  {
   "cell_type": "code",
   "execution_count": 3,
   "id": "503dbdcb",
   "metadata": {},
   "outputs": [],
   "source": [
    "gamma0 = mgamma(0, lower=False)\n",
    "gamma1 = mgamma(1, lower=False)\n",
    "gamma2 = mgamma(2, lower=False)\n",
    "gamma3 = mgamma(3, lower=False)\n",
    "gamma5 = mgamma(5, lower=False)\n",
    "\n",
    "gamma_matrix = [gamma0, gamma1, gamma2, gamma3]"
   ]
  },
  {
   "cell_type": "code",
   "execution_count": 4,
   "id": "bffd5745",
   "metadata": {},
   "outputs": [],
   "source": [
    "# The free particle solutions\n",
    "u1 = ((E+m)/(2*m))**(1/2)*Matrix([[1],\n",
    "                                  [0],\n",
    "                                  [Pz/(E+m)],\n",
    "                                  [Pp/(E+m)]])\n",
    "\n",
    "u2 = ((E+m)/(2*m))**(1/2)*Matrix([[0],\n",
    "                                  [1],\n",
    "                                  [Pm/(E+m)],\n",
    "                                  [-Pz/(E+m)]])\n",
    "\n",
    "v1 = ((E+m)/(2*m))**(1/2)*Matrix([[Pz/(E+m)],\n",
    "                                  [Pp/(E+m)],\n",
    "                                  [1],\n",
    "                                  [0]])\n",
    "\n",
    "v2 = ((E+m)/(2*m))**(1/2)*Matrix([[Pm/(E+m)],\n",
    "                                  [-Pz/(E+m)],\n",
    "                                  [0],\n",
    "                                  [1]])"
   ]
  },
  {
   "cell_type": "code",
   "execution_count": 5,
   "id": "2fcb230d",
   "metadata": {},
   "outputs": [],
   "source": [
    "# The free particle solutions\n",
    "u1prime = ((Eprime+m)/(2*m))**(1/2)*Matrix([[1],\n",
    "                                            [0],\n",
    "                                            [Pzprime/(Eprime+m)],\n",
    "                                            [Ppprime/(Eprime+m)]])\n",
    "\n",
    "u2prime = ((Eprime+m)/(2*m))**(1/2)*Matrix([[0],\n",
    "                                            [1],\n",
    "                                            [Pmprime/(Eprime+m)],\n",
    "                                            [-Pzprime/(Eprime+m)]])\n",
    "\n",
    "v1prime = ((Eprime+m)/(2*m))**(1/2)*Matrix([[Pzprime/(Eprime+m)],\n",
    "                                            [Ppprime/(Eprime+m)],\n",
    "                                            [1],\n",
    "                                            [0]])\n",
    "\n",
    "v2prime = ((Eprime+m)/(2*m))**(1/2)*Matrix([[Pmprime/(Eprime+m)],\n",
    "                                            [-Pzprime/(Eprime+m)],\n",
    "                                            [0],\n",
    "                                            [1]])"
   ]
  },
  {
   "cell_type": "code",
   "execution_count": 6,
   "id": "4485fe28",
   "metadata": {},
   "outputs": [],
   "source": [
    "# Question1"
   ]
  },
  {
   "cell_type": "code",
   "execution_count": 7,
   "id": "c58da210",
   "metadata": {},
   "outputs": [
    {
     "data": {
      "text/latex": [
       "$\\displaystyle \\left[ \\left[ \\left[\\begin{matrix}0 & 0 & 0 & 0\\\\0 & 0 & 0 & 0\\\\0 & 0 & 0 & 0\\\\0 & 0 & 0 & 0\\end{matrix}\\right], \\  \\left[\\begin{matrix}0 & 0 & 0 & 1.0 i\\\\0 & 0 & 1.0 i & 0\\\\0 & 1.0 i & 0 & 0\\\\1.0 i & 0 & 0 & 0\\end{matrix}\\right], \\  \\left[\\begin{matrix}0 & 0 & 0 & 1.0\\\\0 & 0 & -1.0 & 0\\\\0 & 1.0 & 0 & 0\\\\-1.0 & 0 & 0 & 0\\end{matrix}\\right], \\  \\left[\\begin{matrix}0 & 0 & 1.0 i & 0\\\\0 & 0 & 0 & - 1.0 i\\\\1.0 i & 0 & 0 & 0\\\\0 & - 1.0 i & 0 & 0\\end{matrix}\\right]\\right], \\  \\left[ \\left[\\begin{matrix}0 & 0 & 0 & - 1.0 i\\\\0 & 0 & - 1.0 i & 0\\\\0 & - 1.0 i & 0 & 0\\\\- 1.0 i & 0 & 0 & 0\\end{matrix}\\right], \\  \\left[\\begin{matrix}0 & 0 & 0 & 0\\\\0 & 0 & 0 & 0\\\\0 & 0 & 0 & 0\\\\0 & 0 & 0 & 0\\end{matrix}\\right], \\  \\left[\\begin{matrix}1.0 & 0 & 0 & 0\\\\0 & -1.0 & 0 & 0\\\\0 & 0 & 1.0 & 0\\\\0 & 0 & 0 & -1.0\\end{matrix}\\right], \\  \\left[\\begin{matrix}0 & 1.0 i & 0 & 0\\\\- 1.0 i & 0 & 0 & 0\\\\0 & 0 & 0 & 1.0 i\\\\0 & 0 & - 1.0 i & 0\\end{matrix}\\right]\\right], \\  \\left[ \\left[\\begin{matrix}0 & 0 & 0 & -1.0\\\\0 & 0 & 1.0 & 0\\\\0 & -1.0 & 0 & 0\\\\1.0 & 0 & 0 & 0\\end{matrix}\\right], \\  \\left[\\begin{matrix}-1.0 & 0 & 0 & 0\\\\0 & 1.0 & 0 & 0\\\\0 & 0 & -1.0 & 0\\\\0 & 0 & 0 & 1.0\\end{matrix}\\right], \\  \\left[\\begin{matrix}0 & 0 & 0 & 0\\\\0 & 0 & 0 & 0\\\\0 & 0 & 0 & 0\\\\0 & 0 & 0 & 0\\end{matrix}\\right], \\  \\left[\\begin{matrix}0 & 1.0 & 0 & 0\\\\1.0 & 0 & 0 & 0\\\\0 & 0 & 0 & 1.0\\\\0 & 0 & 1.0 & 0\\end{matrix}\\right]\\right], \\  \\left[ \\left[\\begin{matrix}0 & 0 & - 1.0 i & 0\\\\0 & 0 & 0 & 1.0 i\\\\- 1.0 i & 0 & 0 & 0\\\\0 & 1.0 i & 0 & 0\\end{matrix}\\right], \\  \\left[\\begin{matrix}0 & - 1.0 i & 0 & 0\\\\1.0 i & 0 & 0 & 0\\\\0 & 0 & 0 & - 1.0 i\\\\0 & 0 & 1.0 i & 0\\end{matrix}\\right], \\  \\left[\\begin{matrix}0 & -1.0 & 0 & 0\\\\-1.0 & 0 & 0 & 0\\\\0 & 0 & 0 & -1.0\\\\0 & 0 & -1.0 & 0\\end{matrix}\\right], \\  \\left[\\begin{matrix}0 & 0 & 0 & 0\\\\0 & 0 & 0 & 0\\\\0 & 0 & 0 & 0\\\\0 & 0 & 0 & 0\\end{matrix}\\right]\\right]\\right]$"
      ],
      "text/plain": [
       "⎡⎡⎡0  0  0  0⎤  ⎡  0      0      0    1.0⋅ⅈ⎤  ⎡ 0     0    0    1.0⎤  ⎡  0    \n",
       "⎢⎢⎢          ⎥  ⎢                          ⎥  ⎢                    ⎥  ⎢       \n",
       "⎢⎢⎢0  0  0  0⎥  ⎢  0      0    1.0⋅ⅈ    0  ⎥  ⎢ 0     0   -1.0   0 ⎥  ⎢  0    \n",
       "⎢⎢⎢          ⎥, ⎢                          ⎥, ⎢                    ⎥, ⎢       \n",
       "⎢⎢⎢0  0  0  0⎥  ⎢  0    1.0⋅ⅈ    0      0  ⎥  ⎢ 0    1.0   0     0 ⎥  ⎢1.0⋅ⅈ  \n",
       "⎢⎢⎢          ⎥  ⎢                          ⎥  ⎢                    ⎥  ⎢       \n",
       "⎣⎣⎣0  0  0  0⎦  ⎣1.0⋅ⅈ    0      0      0  ⎦  ⎣-1.0   0    0     0 ⎦  ⎣  0    \n",
       "\n",
       "  0     1.0⋅ⅈ    0   ⎤⎤  ⎡⎡  0       0       0     -1.0⋅ⅈ⎤  ⎡0  0  0  0⎤  ⎡1.0\n",
       "                     ⎥⎥  ⎢⎢                              ⎥  ⎢          ⎥  ⎢   \n",
       "  0       0    -1.0⋅ⅈ⎥⎥  ⎢⎢  0       0     -1.0⋅ⅈ    0   ⎥  ⎢0  0  0  0⎥  ⎢ 0 \n",
       "                     ⎥⎥, ⎢⎢                              ⎥, ⎢          ⎥, ⎢   \n",
       "  0       0      0   ⎥⎥  ⎢⎢  0     -1.0⋅ⅈ    0       0   ⎥  ⎢0  0  0  0⎥  ⎢ 0 \n",
       "                     ⎥⎥  ⎢⎢                              ⎥  ⎢          ⎥  ⎢   \n",
       "-1.0⋅ⅈ    0      0   ⎦⎦  ⎣⎣-1.0⋅ⅈ    0       0       0   ⎦  ⎣0  0  0  0⎦  ⎣ 0 \n",
       "\n",
       "   0     0    0  ⎤  ⎡  0     1.0⋅ⅈ    0       0  ⎤⎤  ⎡⎡ 0    0     0   -1.0⎤  \n",
       "                 ⎥  ⎢                            ⎥⎥  ⎢⎢                    ⎥  \n",
       "  -1.0   0    0  ⎥  ⎢-1.0⋅ⅈ    0      0       0  ⎥⎥  ⎢⎢ 0    0    1.0   0  ⎥  \n",
       "                 ⎥, ⎢                            ⎥⎥, ⎢⎢                    ⎥, \n",
       "   0    1.0   0  ⎥  ⎢  0       0      0     1.0⋅ⅈ⎥⎥  ⎢⎢ 0   -1.0   0    0  ⎥  \n",
       "                 ⎥  ⎢                            ⎥⎥  ⎢⎢                    ⎥  \n",
       "   0     0   -1.0⎦  ⎣  0       0    -1.0⋅ⅈ    0  ⎦⎦  ⎣⎣1.0   0     0    0  ⎦  \n",
       "\n",
       "⎡-1.0   0    0     0 ⎤  ⎡0  0  0  0⎤  ⎡ 0   1.0   0    0 ⎤⎤  ⎡⎡  0       0    \n",
       "⎢                    ⎥  ⎢          ⎥  ⎢                  ⎥⎥  ⎢⎢               \n",
       "⎢ 0    1.0   0     0 ⎥  ⎢0  0  0  0⎥  ⎢1.0   0    0    0 ⎥⎥  ⎢⎢  0       0    \n",
       "⎢                    ⎥, ⎢          ⎥, ⎢                  ⎥⎥, ⎢⎢               \n",
       "⎢ 0     0   -1.0   0 ⎥  ⎢0  0  0  0⎥  ⎢ 0    0    0   1.0⎥⎥  ⎢⎢-1.0⋅ⅈ    0    \n",
       "⎢                    ⎥  ⎢          ⎥  ⎢                  ⎥⎥  ⎢⎢               \n",
       "⎣ 0     0    0    1.0⎦  ⎣0  0  0  0⎦  ⎣ 0    0   1.0   0 ⎦⎦  ⎣⎣  0     1.0⋅ⅈ  \n",
       "\n",
       "-1.0⋅ⅈ    0  ⎤  ⎡  0    -1.0⋅ⅈ    0      0   ⎤  ⎡ 0    -1.0   0     0  ⎤  ⎡0  \n",
       "             ⎥  ⎢                            ⎥  ⎢                      ⎥  ⎢   \n",
       "  0     1.0⋅ⅈ⎥  ⎢1.0⋅ⅈ    0       0      0   ⎥  ⎢-1.0   0     0     0  ⎥  ⎢0  \n",
       "             ⎥, ⎢                            ⎥, ⎢                      ⎥, ⎢   \n",
       "  0       0  ⎥  ⎢  0      0       0    -1.0⋅ⅈ⎥  ⎢ 0     0     0    -1.0⎥  ⎢0  \n",
       "             ⎥  ⎢                            ⎥  ⎢                      ⎥  ⎢   \n",
       "  0       0  ⎦  ⎣  0      0     1.0⋅ⅈ    0   ⎦  ⎣ 0     0    -1.0   0  ⎦  ⎣0  \n",
       "\n",
       "0  0  0⎤⎤⎤\n",
       "       ⎥⎥⎥\n",
       "0  0  0⎥⎥⎥\n",
       "       ⎥⎥⎥\n",
       "0  0  0⎥⎥⎥\n",
       "       ⎥⎥⎥\n",
       "0  0  0⎦⎦⎦"
      ]
     },
     "execution_count": 7,
     "metadata": {},
     "output_type": "execute_result"
    }
   ],
   "source": [
    "sigmauv = []\n",
    "temp = []\n",
    "\n",
    "for a in range(len(gamma_matrix)): # here mu = a and nu = b\n",
    "    for b in range(len(gamma_matrix)):\n",
    "        temp.append((1j/2)*(gamma_matrix[a]@gamma_matrix[b] - gamma_matrix[b]@gamma_matrix[a]))\n",
    "    sigmauv.append(temp)\n",
    "    temp = []\n",
    "sigmauv"
   ]
  },
  {
   "cell_type": "code",
   "execution_count": 8,
   "id": "fb0fed03",
   "metadata": {
    "scrolled": true
   },
   "outputs": [
    {
     "data": {
      "text/latex": [
       "$\\displaystyle \\left[\\begin{matrix}\\frac{0.5 \\left(\\frac{E + m}{m}\\right)^{0.5} \\left(Pz \\overline{{Pz}'} + \\left(E + m\\right) \\left(\\overline{{E}'} + \\overline{m}\\right) + \\left(E + m\\right) \\left(i \\left(\\overline{{Px}'} - 1.0 i \\overline{{Py}'}\\right) + \\overline{{Px}'} - 1.0 i \\overline{{Py}'} + \\overline{{Pz}'}\\right) + \\left(Px + 1.0 i Py\\right) \\left(\\overline{{Px}'} - 1.0 i \\overline{{Py}'}\\right) + \\left(\\overline{{E}'} + \\overline{m}\\right) \\left(Px + 1.0 i Py + Pz - i \\left(Px + 1.0 i Py\\right)\\right)\\right) \\overline{\\left(\\frac{{E}' + m}{m}\\right)^{0.5}}}{\\left(E + m\\right) \\left(\\overline{{E}'} + \\overline{m}\\right)}\\end{matrix}\\right]$"
      ],
      "text/plain": [
       "⎡                                                                             \n",
       "⎢           0.5                                                               \n",
       "⎢    ⎛E + m⎞    ⎛   ___           ⎛__   _⎞           ⎛  ⎛___     ___⎞   ___   \n",
       "⎢0.5⋅⎜─────⎟   ⋅⎝Pz⋅Pz′ + (E + m)⋅⎝E′ + m⎠ + (E + m)⋅⎝ⅈ⋅⎝Px′ - ⅈ⋅Py′⎠ + Px′ - \n",
       "⎢    ⎝  m  ⎠                                                                  \n",
       "⎢─────────────────────────────────────────────────────────────────────────────\n",
       "⎢                                                                             \n",
       "⎣                                                                             \n",
       "\n",
       "                                                                              \n",
       "                                                                              \n",
       "  ___   ___⎞                   ⎛___     ___⎞   ⎛__   _⎞                       \n",
       "ⅈ⋅Py′ + Pz′⎠ + (Px + 1.0⋅ⅈ⋅Py)⋅⎝Px′ - ⅈ⋅Py′⎠ + ⎝E′ + m⎠⋅(Px + 1.0⋅ⅈ⋅Py + Pz - \n",
       "                                                                              \n",
       "──────────────────────────────────────────────────────────────────────────────\n",
       "                ⎛__   _⎞                                                      \n",
       "        (E + m)⋅⎝E′ + m⎠                                                      \n",
       "\n",
       "                    ___________⎤\n",
       "                            0.5⎥\n",
       "                  ⎞ ⎛E′ + m⎞   ⎥\n",
       "ⅈ⋅(Px + 1.0⋅ⅈ⋅Py))⎠⋅⎜──────⎟   ⎥\n",
       "                    ⎝  m   ⎠   ⎥\n",
       "───────────────────────────────⎥\n",
       "                               ⎥\n",
       "                               ⎦"
      ]
     },
     "execution_count": 8,
     "metadata": {},
     "output_type": "execute_result"
    }
   ],
   "source": [
    "u1prime_aj = Dagger(u1prime) @ gamma0\n",
    "result = Matrix.zeros(1, 1)\n",
    "\n",
    "for mat in gamma_matrix:\n",
    "    result +=  u1prime_aj @ mat @ u1\n",
    "    \n",
    "result = simplify(result)\n",
    "result"
   ]
  },
  {
   "cell_type": "code",
   "execution_count": 9,
   "id": "c09795bb",
   "metadata": {},
   "outputs": [],
   "source": [
    "# Question2\n",
    "Bgamma = [Matrix.eye(4,4), gamma0, gamma1, gamma2, gamma3, gamma5, gamma0@gamma5, gamma1@gamma5, gamma2@gamma5, gamma3@gamma5, \n",
    "          sigmauv[0][1], sigmauv[0][2], sigmauv[0][3], sigmauv[1][2], sigmauv[1][3], sigmauv[2][3]]"
   ]
  },
  {
   "cell_type": "code",
   "execution_count": 10,
   "id": "6918938f",
   "metadata": {},
   "outputs": [
    {
     "data": {
      "image/png": "[encoded data removed]",
      "text/latex": [
       "$\\displaystyle \\left[ 4, \\  0, \\  0, \\  0, \\  0, \\  0, \\  0, \\  0, \\  0, \\  0, \\  0, \\  0, \\  0, \\  0, \\  0, \\  0\\right]$"
      ],
      "text/plain": [
       "[4, 0, 0, 0, 0, 0, 0, 0, 0, 0, 0, 0, 0, 0, 0, 0]"
      ]
     },
     "execution_count": 10,
     "metadata": {},
     "output_type": "execute_result"
    }
   ],
   "source": [
    "# trace calculation\n",
    "traces = []\n",
    "for matrix in Bgamma:\n",
    "    traces.append(simplify(Trace(matrix)))\n",
    "traces"
   ]
  },
  {
   "cell_type": "code",
   "execution_count": 11,
   "id": "7db7b0a5",
   "metadata": {},
   "outputs": [
    {
     "data": {
      "text/latex": [
       "$\\displaystyle \\left[ \\left[\\begin{matrix}1 & 0 & 0 & 0\\\\0 & 1 & 0 & 0\\\\0 & 0 & 1 & 0\\\\0 & 0 & 0 & 1\\end{matrix}\\right], \\  \\left[\\begin{matrix}1 & 0 & 0 & 0\\\\0 & 1 & 0 & 0\\\\0 & 0 & -1 & 0\\\\0 & 0 & 0 & -1\\end{matrix}\\right], \\  \\left[\\begin{matrix}0 & 0 & 0 & 1\\\\0 & 0 & 1 & 0\\\\0 & -1 & 0 & 0\\\\-1 & 0 & 0 & 0\\end{matrix}\\right], \\  \\left[\\begin{matrix}0 & 0 & 0 & - i\\\\0 & 0 & i & 0\\\\0 & i & 0 & 0\\\\- i & 0 & 0 & 0\\end{matrix}\\right], \\  \\left[\\begin{matrix}0 & 0 & 1 & 0\\\\0 & 0 & 0 & -1\\\\-1 & 0 & 0 & 0\\\\0 & 1 & 0 & 0\\end{matrix}\\right], \\  \\left[\\begin{matrix}0 & 0 & -1 & 0\\\\0 & 0 & 0 & -1\\\\-1 & 0 & 0 & 0\\\\0 & -1 & 0 & 0\\end{matrix}\\right], \\  \\left[\\begin{matrix}0 & 0 & 1 & 0\\\\0 & 0 & 0 & 1\\\\-1 & 0 & 0 & 0\\\\0 & -1 & 0 & 0\\end{matrix}\\right], \\  \\left[\\begin{matrix}0 & 1 & 0 & 0\\\\1 & 0 & 0 & 0\\\\0 & 0 & 0 & -1\\\\0 & 0 & -1 & 0\\end{matrix}\\right], \\  \\left[\\begin{matrix}0 & - i & 0 & 0\\\\i & 0 & 0 & 0\\\\0 & 0 & 0 & i\\\\0 & 0 & - i & 0\\end{matrix}\\right], \\  \\left[\\begin{matrix}1 & 0 & 0 & 0\\\\0 & -1 & 0 & 0\\\\0 & 0 & -1 & 0\\\\0 & 0 & 0 & 1\\end{matrix}\\right], \\  \\left[\\begin{matrix}0 & 0 & 0 & 1.0 i\\\\0 & 0 & 1.0 i & 0\\\\0 & 1.0 i & 0 & 0\\\\1.0 i & 0 & 0 & 0\\end{matrix}\\right], \\  \\left[\\begin{matrix}0 & 0 & 0 & 1.0\\\\0 & 0 & -1.0 & 0\\\\0 & 1.0 & 0 & 0\\\\-1.0 & 0 & 0 & 0\\end{matrix}\\right], \\  \\left[\\begin{matrix}0 & 0 & 1.0 i & 0\\\\0 & 0 & 0 & - 1.0 i\\\\1.0 i & 0 & 0 & 0\\\\0 & - 1.0 i & 0 & 0\\end{matrix}\\right], \\  \\left[\\begin{matrix}1.0 & 0 & 0 & 0\\\\0 & -1.0 & 0 & 0\\\\0 & 0 & 1.0 & 0\\\\0 & 0 & 0 & -1.0\\end{matrix}\\right], \\  \\left[\\begin{matrix}0 & 1.0 i & 0 & 0\\\\- 1.0 i & 0 & 0 & 0\\\\0 & 0 & 0 & 1.0 i\\\\0 & 0 & - 1.0 i & 0\\end{matrix}\\right], \\  \\left[\\begin{matrix}0 & 1.0 & 0 & 0\\\\1.0 & 0 & 0 & 0\\\\0 & 0 & 0 & 1.0\\\\0 & 0 & 1.0 & 0\\end{matrix}\\right]\\right]$"
      ],
      "text/plain": [
       "⎡⎡1  0  0  0⎤  ⎡1  0  0   0 ⎤  ⎡0   0   0  1⎤  ⎡0   0  0  -ⅈ⎤  ⎡0   0  1  0 ⎤ \n",
       "⎢⎢          ⎥  ⎢            ⎥  ⎢            ⎥  ⎢            ⎥  ⎢            ⎥ \n",
       "⎢⎢0  1  0  0⎥  ⎢0  1  0   0 ⎥  ⎢0   0   1  0⎥  ⎢0   0  ⅈ  0 ⎥  ⎢0   0  0  -1⎥ \n",
       "⎢⎢          ⎥, ⎢            ⎥, ⎢            ⎥, ⎢            ⎥, ⎢            ⎥,\n",
       "⎢⎢0  0  1  0⎥  ⎢0  0  -1  0 ⎥  ⎢0   -1  0  0⎥  ⎢0   ⅈ  0  0 ⎥  ⎢-1  0  0  0 ⎥ \n",
       "⎢⎢          ⎥  ⎢            ⎥  ⎢            ⎥  ⎢            ⎥  ⎢            ⎥ \n",
       "⎣⎣0  0  0  1⎦  ⎣0  0  0   -1⎦  ⎣-1  0   0  0⎦  ⎣-ⅈ  0  0  0 ⎦  ⎣0   1  0  0 ⎦ \n",
       "\n",
       " ⎡0   0   -1  0 ⎤  ⎡0   0   1  0⎤  ⎡0  1  0   0 ⎤  ⎡0  -ⅈ  0   0⎤  ⎡1  0   0  \n",
       " ⎢              ⎥  ⎢            ⎥  ⎢            ⎥  ⎢            ⎥  ⎢          \n",
       " ⎢0   0   0   -1⎥  ⎢0   0   0  1⎥  ⎢1  0  0   0 ⎥  ⎢ⅈ  0   0   0⎥  ⎢0  -1  0  \n",
       " ⎢              ⎥, ⎢            ⎥, ⎢            ⎥, ⎢            ⎥, ⎢          \n",
       " ⎢-1  0   0   0 ⎥  ⎢-1  0   0  0⎥  ⎢0  0  0   -1⎥  ⎢0  0   0   ⅈ⎥  ⎢0  0   -1 \n",
       " ⎢              ⎥  ⎢            ⎥  ⎢            ⎥  ⎢            ⎥  ⎢          \n",
       " ⎣0   -1  0   0 ⎦  ⎣0   -1  0  0⎦  ⎣0  0  -1  0 ⎦  ⎣0  0   -ⅈ  0⎦  ⎣0  0   0  \n",
       "\n",
       " 0⎤  ⎡  0      0      0    1.0⋅ⅈ⎤  ⎡ 0     0    0    1.0⎤  ⎡  0      0     1.0\n",
       "  ⎥  ⎢                          ⎥  ⎢                    ⎥  ⎢                  \n",
       " 0⎥  ⎢  0      0    1.0⋅ⅈ    0  ⎥  ⎢ 0     0   -1.0   0 ⎥  ⎢  0      0       0\n",
       "  ⎥, ⎢                          ⎥, ⎢                    ⎥, ⎢                  \n",
       " 0⎥  ⎢  0    1.0⋅ⅈ    0      0  ⎥  ⎢ 0    1.0   0     0 ⎥  ⎢1.0⋅ⅈ    0       0\n",
       "  ⎥  ⎢                          ⎥  ⎢                    ⎥  ⎢                  \n",
       " 1⎦  ⎣1.0⋅ⅈ    0      0      0  ⎦  ⎣-1.0   0    0     0 ⎦  ⎣  0    -1.0⋅ⅈ    0\n",
       "\n",
       "⋅ⅈ    0   ⎤  ⎡1.0   0     0    0  ⎤  ⎡  0     1.0⋅ⅈ    0       0  ⎤  ⎡ 0   1.0\n",
       "          ⎥  ⎢                    ⎥  ⎢                            ⎥  ⎢        \n",
       "    -1.0⋅ⅈ⎥  ⎢ 0   -1.0   0    0  ⎥  ⎢-1.0⋅ⅈ    0      0       0  ⎥  ⎢1.0   0 \n",
       "          ⎥, ⎢                    ⎥, ⎢                            ⎥, ⎢        \n",
       "      0   ⎥  ⎢ 0    0    1.0   0  ⎥  ⎢  0       0      0     1.0⋅ⅈ⎥  ⎢ 0    0 \n",
       "          ⎥  ⎢                    ⎥  ⎢                            ⎥  ⎢        \n",
       "      0   ⎦  ⎣ 0    0     0   -1.0⎦  ⎣  0       0    -1.0⋅ⅈ    0  ⎦  ⎣ 0    0 \n",
       "\n",
       "   0    0 ⎤⎤\n",
       "          ⎥⎥\n",
       "   0    0 ⎥⎥\n",
       "          ⎥⎥\n",
       "   0   1.0⎥⎥\n",
       "          ⎥⎥\n",
       "  1.0   0 ⎦⎦"
      ]
     },
     "execution_count": 11,
     "metadata": {},
     "output_type": "execute_result"
    }
   ],
   "source": [
    "# Gamma bar definition\n",
    "Bgamma_tradj = [gamma0 @ Dagger(mat)@ gamma0 for mat in Bgamma]\n",
    "Bgamma_tradj"
   ]
  },
  {
   "cell_type": "code",
   "execution_count": 12,
   "id": "35618072",
   "metadata": {},
   "outputs": [
    {
     "data": {
      "image/png": "[encoded data removed]",
      "text/latex": [
       "$\\displaystyle \\left[ 4, \\  4, \\  -4, \\  -4, \\  -4, \\  -4, \\  -4, \\  4, \\  4, \\  4, \\  -4.0, \\  -4.0, \\  -4.0, \\  4.0, \\  4.0, \\  4.0\\right]$"
      ],
      "text/plain": [
       "[4, 4, -4, -4, -4, -4, -4, 4, 4, 4, -4.0, -4.0, -4.0, 4.0, 4.0, 4.0]"
      ]
     },
     "execution_count": 12,
     "metadata": {},
     "output_type": "execute_result"
    }
   ],
   "source": [
    "# 2. part 4 Gij calculation\n",
    "traces = []\n",
    "for counter in range(len(Bgamma)):\n",
    "    traces.append(simplify(Trace(Bgamma_tradj[counter] @ Bgamma[counter])))\n",
    "traces"
   ]
  },
  {
   "cell_type": "code",
   "execution_count": 13,
   "id": "a8aa1b02",
   "metadata": {},
   "outputs": [
    {
     "data": {
      "text/latex": [
       "$\\displaystyle \\left[\\begin{matrix}1 & 1 & -1 & -1\\\\-1 & -1 & -1 & 1\\\\1 & 1 & -1.0 & -1.0\\\\-1.0 & 1.0 & 1.0 & 1.0\\end{matrix}\\right]$"
      ],
      "text/plain": [
       "⎡ 1     1    -1    -1 ⎤\n",
       "⎢                     ⎥\n",
       "⎢ -1   -1    -1    1  ⎥\n",
       "⎢                     ⎥\n",
       "⎢ 1     1   -1.0  -1.0⎥\n",
       "⎢                     ⎥\n",
       "⎣-1.0  1.0  1.0   1.0 ⎦"
      ]
     },
     "execution_count": 13,
     "metadata": {},
     "output_type": "execute_result"
    }
   ],
   "source": [
    "gij = Matrix([[traces[0]/4, traces[1]/4, traces[2]/4, traces[3]/4],\n",
    "                [traces[4]/4, traces[5]/4, traces[6]/4, traces[7]/4],\n",
    "                [traces[8]/4, traces[9]/4, traces[10]/4, traces[11]/4],\n",
    "                [traces[12]/4, traces[13]/4, traces[14]/4, traces[15]/4]])\n",
    "gij"
   ]
  },
  {
   "cell_type": "code",
   "execution_count": 14,
   "id": "4d710b05",
   "metadata": {
    "scrolled": true
   },
   "outputs": [
    {
     "ename": "NonInvertibleMatrixError",
     "evalue": "Matrix det == 0; not invertible.",
     "output_type": "error",
     "traceback": [
      "\u001b[1;31m---------------------------------------------------------------------------\u001b[0m",
      "\u001b[1;31mNonInvertibleMatrixError\u001b[0m                  Traceback (most recent call last)",
      "\u001b[1;32m~\\AppData\\Local\\Temp\\ipykernel_24644\\2269209498.py\u001b[0m in \u001b[0;36m<module>\u001b[1;34m\u001b[0m\n\u001b[1;32m----> 1\u001b[1;33m \u001b[0mgij\u001b[0m\u001b[1;33m.\u001b[0m\u001b[0minv\u001b[0m\u001b[1;33m(\u001b[0m\u001b[1;33m)\u001b[0m \u001b[1;31m# no inverse!\u001b[0m\u001b[1;33m\u001b[0m\u001b[1;33m\u001b[0m\u001b[0m\n\u001b[0m",
      "\u001b[1;32m~\\anaconda3\\lib\\site-packages\\sympy\\matrices\\matrices.py\u001b[0m in \u001b[0;36minv\u001b[1;34m(self, method, iszerofunc, try_block_diag)\u001b[0m\n\u001b[0;32m   2221\u001b[0m \u001b[1;33m\u001b[0m\u001b[0m\n\u001b[0;32m   2222\u001b[0m     \u001b[1;32mdef\u001b[0m \u001b[0minv\u001b[0m\u001b[1;33m(\u001b[0m\u001b[0mself\u001b[0m\u001b[1;33m,\u001b[0m \u001b[0mmethod\u001b[0m\u001b[1;33m=\u001b[0m\u001b[1;32mNone\u001b[0m\u001b[1;33m,\u001b[0m \u001b[0miszerofunc\u001b[0m\u001b[1;33m=\u001b[0m\u001b[0m_iszero\u001b[0m\u001b[1;33m,\u001b[0m \u001b[0mtry_block_diag\u001b[0m\u001b[1;33m=\u001b[0m\u001b[1;32mFalse\u001b[0m\u001b[1;33m)\u001b[0m\u001b[1;33m:\u001b[0m\u001b[1;33m\u001b[0m\u001b[1;33m\u001b[0m\u001b[0m\n\u001b[1;32m-> 2223\u001b[1;33m         return _inv(self, method=method, iszerofunc=iszerofunc,\n\u001b[0m\u001b[0;32m   2224\u001b[0m                 try_block_diag=try_block_diag)\n\u001b[0;32m   2225\u001b[0m \u001b[1;33m\u001b[0m\u001b[0m\n",
      "\u001b[1;32m~\\anaconda3\\lib\\site-packages\\sympy\\matrices\\inverse.py\u001b[0m in \u001b[0;36m_inv\u001b[1;34m(M, method, iszerofunc, try_block_diag)\u001b[0m\n\u001b[0;32m    457\u001b[0m \u001b[1;33m\u001b[0m\u001b[0m\n\u001b[0;32m    458\u001b[0m     \u001b[1;32mif\u001b[0m \u001b[0mmethod\u001b[0m \u001b[1;33m==\u001b[0m \u001b[1;34m\"GE\"\u001b[0m\u001b[1;33m:\u001b[0m\u001b[1;33m\u001b[0m\u001b[1;33m\u001b[0m\u001b[0m\n\u001b[1;32m--> 459\u001b[1;33m         \u001b[0mrv\u001b[0m \u001b[1;33m=\u001b[0m \u001b[0mM\u001b[0m\u001b[1;33m.\u001b[0m\u001b[0minverse_GE\u001b[0m\u001b[1;33m(\u001b[0m\u001b[0miszerofunc\u001b[0m\u001b[1;33m=\u001b[0m\u001b[0miszerofunc\u001b[0m\u001b[1;33m)\u001b[0m\u001b[1;33m\u001b[0m\u001b[1;33m\u001b[0m\u001b[0m\n\u001b[0m\u001b[0;32m    460\u001b[0m     \u001b[1;32melif\u001b[0m \u001b[0mmethod\u001b[0m \u001b[1;33m==\u001b[0m \u001b[1;34m\"LU\"\u001b[0m\u001b[1;33m:\u001b[0m\u001b[1;33m\u001b[0m\u001b[1;33m\u001b[0m\u001b[0m\n\u001b[0;32m    461\u001b[0m         \u001b[0mrv\u001b[0m \u001b[1;33m=\u001b[0m \u001b[0mM\u001b[0m\u001b[1;33m.\u001b[0m\u001b[0minverse_LU\u001b[0m\u001b[1;33m(\u001b[0m\u001b[0miszerofunc\u001b[0m\u001b[1;33m=\u001b[0m\u001b[0miszerofunc\u001b[0m\u001b[1;33m)\u001b[0m\u001b[1;33m\u001b[0m\u001b[1;33m\u001b[0m\u001b[0m\n",
      "\u001b[1;32m~\\anaconda3\\lib\\site-packages\\sympy\\matrices\\matrices.py\u001b[0m in \u001b[0;36minverse_GE\u001b[1;34m(self, iszerofunc)\u001b[0m\n\u001b[0;32m   2206\u001b[0m \u001b[1;33m\u001b[0m\u001b[0m\n\u001b[0;32m   2207\u001b[0m     \u001b[1;32mdef\u001b[0m \u001b[0minverse_GE\u001b[0m\u001b[1;33m(\u001b[0m\u001b[0mself\u001b[0m\u001b[1;33m,\u001b[0m \u001b[0miszerofunc\u001b[0m\u001b[1;33m=\u001b[0m\u001b[0m_iszero\u001b[0m\u001b[1;33m)\u001b[0m\u001b[1;33m:\u001b[0m\u001b[1;33m\u001b[0m\u001b[1;33m\u001b[0m\u001b[0m\n\u001b[1;32m-> 2208\u001b[1;33m         \u001b[1;32mreturn\u001b[0m \u001b[0m_inv_GE\u001b[0m\u001b[1;33m(\u001b[0m\u001b[0mself\u001b[0m\u001b[1;33m,\u001b[0m \u001b[0miszerofunc\u001b[0m\u001b[1;33m=\u001b[0m\u001b[0miszerofunc\u001b[0m\u001b[1;33m)\u001b[0m\u001b[1;33m\u001b[0m\u001b[1;33m\u001b[0m\u001b[0m\n\u001b[0m\u001b[0;32m   2209\u001b[0m \u001b[1;33m\u001b[0m\u001b[0m\n\u001b[0;32m   2210\u001b[0m     \u001b[1;32mdef\u001b[0m \u001b[0minverse_LU\u001b[0m\u001b[1;33m(\u001b[0m\u001b[0mself\u001b[0m\u001b[1;33m,\u001b[0m \u001b[0miszerofunc\u001b[0m\u001b[1;33m=\u001b[0m\u001b[0m_iszero\u001b[0m\u001b[1;33m)\u001b[0m\u001b[1;33m:\u001b[0m\u001b[1;33m\u001b[0m\u001b[1;33m\u001b[0m\u001b[0m\n",
      "\u001b[1;32m~\\anaconda3\\lib\\site-packages\\sympy\\matrices\\inverse.py\u001b[0m in \u001b[0;36m_inv_GE\u001b[1;34m(M, iszerofunc)\u001b[0m\n\u001b[0;32m    243\u001b[0m \u001b[1;33m\u001b[0m\u001b[0m\n\u001b[0;32m    244\u001b[0m     \u001b[1;32mif\u001b[0m \u001b[0many\u001b[0m\u001b[1;33m(\u001b[0m\u001b[0miszerofunc\u001b[0m\u001b[1;33m(\u001b[0m\u001b[0mred\u001b[0m\u001b[1;33m[\u001b[0m\u001b[0mj\u001b[0m\u001b[1;33m,\u001b[0m \u001b[0mj\u001b[0m\u001b[1;33m]\u001b[0m\u001b[1;33m)\u001b[0m \u001b[1;32mfor\u001b[0m \u001b[0mj\u001b[0m \u001b[1;32min\u001b[0m \u001b[0mrange\u001b[0m\u001b[1;33m(\u001b[0m\u001b[0mred\u001b[0m\u001b[1;33m.\u001b[0m\u001b[0mrows\u001b[0m\u001b[1;33m)\u001b[0m\u001b[1;33m)\u001b[0m\u001b[1;33m:\u001b[0m\u001b[1;33m\u001b[0m\u001b[1;33m\u001b[0m\u001b[0m\n\u001b[1;32m--> 245\u001b[1;33m         \u001b[1;32mraise\u001b[0m \u001b[0mNonInvertibleMatrixError\u001b[0m\u001b[1;33m(\u001b[0m\u001b[1;34m\"Matrix det == 0; not invertible.\"\u001b[0m\u001b[1;33m)\u001b[0m\u001b[1;33m\u001b[0m\u001b[1;33m\u001b[0m\u001b[0m\n\u001b[0m\u001b[0;32m    246\u001b[0m \u001b[1;33m\u001b[0m\u001b[0m\n\u001b[0;32m    247\u001b[0m     \u001b[1;32mreturn\u001b[0m \u001b[0mM\u001b[0m\u001b[1;33m.\u001b[0m\u001b[0m_new\u001b[0m\u001b[1;33m(\u001b[0m\u001b[0mred\u001b[0m\u001b[1;33m[\u001b[0m\u001b[1;33m:\u001b[0m\u001b[1;33m,\u001b[0m \u001b[0mbig\u001b[0m\u001b[1;33m.\u001b[0m\u001b[0mrows\u001b[0m\u001b[1;33m:\u001b[0m\u001b[1;33m]\u001b[0m\u001b[1;33m)\u001b[0m\u001b[1;33m\u001b[0m\u001b[1;33m\u001b[0m\u001b[0m\n",
      "\u001b[1;31mNonInvertibleMatrixError\u001b[0m: Matrix det == 0; not invertible."
     ]
    }
   ],
   "source": [
    "gij.inv() # no inverse!"
   ]
  },
  {
   "cell_type": "code",
   "execution_count": 15,
   "id": "4425a09e",
   "metadata": {},
   "outputs": [
    {
     "data": {
      "text/latex": [
       "$\\displaystyle \\left[\\begin{matrix}34.0 + 97.0 i & 34.0 + 84.0 i & 96.0 + 38.0 i & 44.0 + 90.0 i\\\\66.0 + 70.0 i & 14.0 + 98.0 i & 72.0 + 36.0 i & 3.0 + 3.0 i\\\\7.0 + 23.0 i & 2.0 + 48.0 i & 84.0 + 78.0 i & 18.0 + 59.0 i\\\\77.0 + 44.0 i & 56.0 + 73.0 i & 28.0 + 9.0 i & 1.0 + 72.0 i\\end{matrix}\\right]$"
      ],
      "text/plain": [
       "⎡34.0 + 97.0⋅ⅈ  34.0 + 84.0⋅ⅈ  96.0 + 38.0⋅ⅈ  44.0 + 90.0⋅ⅈ⎤\n",
       "⎢                                                          ⎥\n",
       "⎢66.0 + 70.0⋅ⅈ  14.0 + 98.0⋅ⅈ  72.0 + 36.0⋅ⅈ   3.0 + 3.0⋅ⅈ ⎥\n",
       "⎢                                                          ⎥\n",
       "⎢7.0 + 23.0⋅ⅈ   2.0 + 48.0⋅ⅈ   84.0 + 78.0⋅ⅈ  18.0 + 59.0⋅ⅈ⎥\n",
       "⎢                                                          ⎥\n",
       "⎣77.0 + 44.0⋅ⅈ  56.0 + 73.0⋅ⅈ  28.0 + 9.0⋅ⅈ   1.0 + 72.0⋅ⅈ ⎦"
      ]
     },
     "execution_count": 15,
     "metadata": {},
     "output_type": "execute_result"
    }
   ],
   "source": [
    "import random\n",
    "Z = [complex(random.randint(0, 100), random.randint(0, 100)) for i in range(16)]\n",
    "alpha = Matrix([[Z[0], Z[1], Z[2], Z[3]],\n",
    "                [Z[4], Z[5], Z[6], Z[7]],\n",
    "                [Z[8], Z[9], Z[10], Z[11]],\n",
    "                [Z[12], Z[13], Z[14], Z[15]]])\n",
    "alpha"
   ]
  },
  {
   "cell_type": "code",
   "execution_count": 16,
   "id": "bc6001d2",
   "metadata": {},
   "outputs": [],
   "source": [
    "arbitrary_Bgamma = Matrix.zeros(4, 4)\n",
    "arbitrary_Bgamma_tilda = Matrix.zeros(4, 4)\n",
    "for matrix in Bgamma:\n",
    "    arbitrary_Bgamma += alpha@matrix\n",
    "for matrix in Bgamma:\n",
    "    arbitrary_Bgamma_tilda += Dagger(alpha)@matrix "
   ]
  },
  {
   "cell_type": "code",
   "execution_count": 17,
   "id": "379df628",
   "metadata": {},
   "outputs": [
    {
     "data": {
      "image/png": "[encoded data removed]",
      "text/latex": [
       "$\\displaystyle 1248652.0 + 460868.0 i$"
      ],
      "text/plain": [
       "1248652.0 + 460868.0⋅ⅈ"
      ]
     },
     "execution_count": 17,
     "metadata": {},
     "output_type": "execute_result"
    }
   ],
   "source": [
    "inner_product = 0\n",
    "for count in range(16):\n",
    "    inner_product += arbitrary_Bgamma[count] * arbitrary_Bgamma_tilda[count]\n",
    "inner_product = simplify(inner_product)\n",
    "inner_product"
   ]
  },
  {
   "cell_type": "code",
   "execution_count": 18,
   "id": "7a3b6029",
   "metadata": {
    "scrolled": true
   },
   "outputs": [
    {
     "data": {
      "image/png": "[encoded data removed]",
      "text/latex": [
       "$\\displaystyle -29811.0 - 3886.0 i$"
      ],
      "text/plain": [
       "-29811.0 - 3886.0⋅ⅈ"
      ]
     },
     "execution_count": 18,
     "metadata": {},
     "output_type": "execute_result"
    }
   ],
   "source": [
    "result = simplify((1/4)*Trace((gamma0@Dagger(arbitrary_Bgamma_tilda)@gamma0) @ arbitrary_Bgamma))\n",
    "result"
   ]
  },
  {
   "cell_type": "code",
   "execution_count": 19,
   "id": "df055811",
   "metadata": {},
   "outputs": [
    {
     "data": {
      "image/png": "[encoded data removed]",
      "text/latex": [
       "$\\displaystyle -29811.0 + 3886.0 i$"
      ],
      "text/plain": [
       "-29811.0 + 3886.0⋅ⅈ"
      ]
     },
     "execution_count": 19,
     "metadata": {},
     "output_type": "execute_result"
    }
   ],
   "source": [
    "# Now if it is a true inner product, then it should satisfies following properties:\n",
    "# 1. Conjugate symmeyry (A, B) = (B*, A*)\n",
    "result = simplify((1/4)*Trace(Dagger(arbitrary_Bgamma)@Dagger(gamma0@Dagger(arbitrary_Bgamma_tilda)@gamma0)))\n",
    "result # it is satisfied"
   ]
  },
  {
   "cell_type": "code",
   "execution_count": 20,
   "id": "51a099a1",
   "metadata": {},
   "outputs": [
    {
     "data": {
      "image/png": "[encoded data removed]",
      "text/latex": [
       "$\\displaystyle 36205.0$"
      ],
      "text/plain": [
       "36205.0000000000"
      ]
     },
     "execution_count": 20,
     "metadata": {},
     "output_type": "execute_result"
    }
   ],
   "source": [
    "#2. Positive-definiteness (A, A) >= 0\n",
    "result = simplify((1/4)*Trace((gamma0@Dagger(arbitrary_Bgamma)@gamma0)@arbitrary_Bgamma))\n",
    "result # it is satified as well!"
   ]
  },
  {
   "cell_type": "code",
   "execution_count": 21,
   "id": "48b3af14",
   "metadata": {},
   "outputs": [],
   "source": [
    "#Question 3\n",
    "psi1p = u1*exp(-1j*(Px*x + Py*y + Pz*z))\n",
    "psi2p = u2*exp(-1j*(Px*x + Py*y + Pz*z))\n",
    "psi1n = v1*exp(1j*(Px*x + Py*y + Pz*z))\n",
    "psi2n = v2*exp(1j*(Px*x + Py*y + Pz*z))\n",
    "psi_list = [psi1p, psi2p, psi1n, psi2n]"
   ]
  },
  {
   "cell_type": "code",
   "execution_count": 22,
   "id": "fa92642a",
   "metadata": {},
   "outputs": [],
   "source": [
    "adj_psi1p = Dagger(u1)@gamma0*exp(-1j*(Px*x + Py*y + Pz*z))\n",
    "adj_psi2p = Dagger(u2)@gamma0*exp(-1j*(Px*x + Py*y + Pz*z))\n",
    "adj_psi1n = Dagger(v1)@gamma0*exp(1j*(Px*x + Py*y + Pz*z))\n",
    "adj_psi2n = Dagger(v2)@gamma0*exp(1j*(Px*x + Py*y + Pz*z))\n",
    "adj_psi_list = [adj_psi1p, adj_psi2p, adj_psi1n, adj_psi2n]"
   ]
  },
  {
   "cell_type": "code",
   "execution_count": 23,
   "id": "d87ea769",
   "metadata": {},
   "outputs": [
    {
     "data": {
      "text/plain": [
       "[True,\n",
       " True,\n",
       " True,\n",
       " True,\n",
       " True,\n",
       " True,\n",
       " True,\n",
       " True,\n",
       " True,\n",
       " True,\n",
       " True,\n",
       " True,\n",
       " True,\n",
       " True,\n",
       " True,\n",
       " True,\n",
       " True,\n",
       " True,\n",
       " True,\n",
       " True,\n",
       " True,\n",
       " True,\n",
       " True,\n",
       " True,\n",
       " True,\n",
       " True,\n",
       " True,\n",
       " True,\n",
       " True,\n",
       " True,\n",
       " True,\n",
       " True,\n",
       " True,\n",
       " True,\n",
       " True,\n",
       " True,\n",
       " True,\n",
       " True,\n",
       " True,\n",
       " True,\n",
       " True,\n",
       " True,\n",
       " True,\n",
       " True,\n",
       " True,\n",
       " True,\n",
       " True,\n",
       " True,\n",
       " True,\n",
       " True,\n",
       " True,\n",
       " True,\n",
       " True,\n",
       " True,\n",
       " True,\n",
       " True,\n",
       " True,\n",
       " True,\n",
       " True,\n",
       " True,\n",
       " True,\n",
       " True,\n",
       " True,\n",
       " True]"
      ]
     },
     "execution_count": 23,
     "metadata": {},
     "output_type": "execute_result"
    }
   ],
   "source": [
    "real_list = []\n",
    "for matrix in Bgamma:\n",
    "    for counter in range(4):\n",
    "        real_list.append(isinstance(simplify(adj_psi_list[counter]@matrix@psi_list[counter]), complex)) # I am simply asking if it is a complex number, isinstance puts False\n",
    "    \n",
    "real_list = [True for element in real_list if element == False] # it is always real\n",
    "real_list # All of them real as you can see."
   ]
  },
  {
   "cell_type": "code",
   "execution_count": null,
   "id": "be91e575",
   "metadata": {},
   "outputs": [],
   "source": []
  }
 ],
 "metadata": {
  "kernelspec": {
   "display_name": "Python 3 (ipykernel)",
   "language": "python",
   "name": "python3"
  },
  "language_info": {
   "codemirror_mode": {
    "name": "ipython",
    "version": 3
   },
   "file_extension": ".py",
   "mimetype": "text/x-python",
   "name": "python",
   "nbconvert_exporter": "python",
   "pygments_lexer": "ipython3",
   "version": "3.9.13"
  }
 },
 "nbformat": 4,
 "nbformat_minor": 5
}
