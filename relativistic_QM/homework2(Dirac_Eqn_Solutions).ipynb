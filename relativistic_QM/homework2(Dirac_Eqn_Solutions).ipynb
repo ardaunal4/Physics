{
 "cells": [
  {
   "cell_type": "code",
   "execution_count": 1,
   "id": "725e83f8",
   "metadata": {},
   "outputs": [
    {
     "name": "stdout",
     "output_type": "stream",
     "text": [
      "IPython console for SymPy 1.10.1 (Python 3.9.13-64-bit) (ground types: python)\n",
      "\n",
      "These commands were executed:\n",
      ">>> from sympy import *\n",
      ">>> x, y, z, t = symbols('x y z t')\n",
      ">>> k, m, n = symbols('k m n', integer=True)\n",
      ">>> f, g, h = symbols('f g h', cls=Function)\n",
      ">>> init_printing()\n",
      "\n",
      "Documentation can be found at https://docs.sympy.org/1.10.1/\n",
      "\n"
     ]
    }
   ],
   "source": [
    "from sympy import Matrix, I, symbols, sqrt, pprint, latex, init_session\n",
    "from sympy.physics.quantum.dagger import Dagger\n",
    "init_session()"
   ]
  },
  {
   "cell_type": "code",
   "execution_count": 2,
   "id": "0f0490cc",
   "metadata": {},
   "outputs": [],
   "source": [
    "# Variable definitions\n",
    "E, m = symbols('E, m', real = True) \n",
    "pz, a, b, psi, psi2 = symbols('pz, a, b, psi, psi2') "
   ]
  },
  {
   "cell_type": "code",
   "execution_count": 3,
   "id": "60a03d78",
   "metadata": {},
   "outputs": [],
   "source": [
    "# Gamma Matrices\n",
    "\n",
    "gamma0 = Matrix([[1, 0, 0, 0],\n",
    "                  [0, 1, 0, 0],\n",
    "                  [0, 0, -1, 0],\n",
    "                  [0, 0, 0, -1]])\n",
    "\n",
    "gamma1 = Matrix([[0, 0, 0, 1],\n",
    "                  [0, 0, 1, 0],\n",
    "                  [0, -1, 0, 0],\n",
    "                  [-1, 0, 0, 0]])\n",
    "\n",
    "gamma2 = Matrix([[0, 0, 0, -I],\n",
    "                  [0, 0, I, 0],\n",
    "                  [0, I, 0, 0],\n",
    "                  [-I, 0, 0, 0]])\n",
    "\n",
    "gamma3 = Matrix([[0, 0, 1, 0],\n",
    "                  [0, 0, 0, -1],\n",
    "                  [-1, 0, 0, 0],\n",
    "                  [0, 1, 0, 0]])"
   ]
  },
  {
   "cell_type": "code",
   "execution_count": 4,
   "id": "bffd5745",
   "metadata": {},
   "outputs": [],
   "source": [
    "# The free particle solutions\n",
    "u1 = Matrix([[1],\n",
    "            [0],\n",
    "            [pz/(E+m)],\n",
    "            [0]])\n",
    "\n",
    "u2 = Matrix([[0],\n",
    "             [1],\n",
    "             [0],\n",
    "             [-pz/(E+m)]])\n",
    "\n",
    "v1 = Matrix([[pz/(E+m)],\n",
    "             [0],\n",
    "             [1],\n",
    "             [0]])\n",
    "\n",
    "v2 = Matrix([[0],\n",
    "             [-pz/(E+m)],\n",
    "             [0],\n",
    "             [1]])"
   ]
  },
  {
   "cell_type": "code",
   "execution_count": 5,
   "id": "15ff135f",
   "metadata": {},
   "outputs": [
    {
     "name": "stdout",
     "output_type": "stream",
     "text": [
      "⎡    __      ⎤\n",
      "⎢ pz⋅pz      ⎥\n",
      "⎢──────── + 1⎥\n",
      "⎢       2    ⎥\n",
      "⎣(E + m)     ⎦\n",
      "[0]\n",
      "[0]\n",
      "⎡          __ ⎤\n",
      "⎢  pz      pz ⎥\n",
      "⎢───── + ─────⎥\n",
      "⎣E + m   E + m⎦\n"
     ]
    }
   ],
   "source": [
    "# Current matrix solution for u1\n",
    "current_matrix = []\n",
    "gamma_matrix = [gamma0, gamma1, gamma2, gamma3]\n",
    "adjoint_spinor = Dagger(u1) * gamma0\n",
    "for matrix in gamma_matrix: \n",
    "    m1 =  adjoint_spinor*matrix\n",
    "    current_matrix.append( m1 *u1)\n",
    "for mm in current_matrix:\n",
    "    pprint(mm)"
   ]
  },
  {
   "cell_type": "code",
   "execution_count": 6,
   "id": "c36b0095",
   "metadata": {},
   "outputs": [
    {
     "name": "stdout",
     "output_type": "stream",
     "text": [
      "⎡    __      ⎤\n",
      "⎢ pz⋅pz      ⎥\n",
      "⎢──────── + 1⎥\n",
      "⎢       2    ⎥\n",
      "⎣(E + m)     ⎦\n",
      "[0]\n",
      "[0]\n",
      "⎡          __ ⎤\n",
      "⎢  pz      pz ⎥\n",
      "⎢───── + ─────⎥\n",
      "⎣E + m   E + m⎦\n"
     ]
    }
   ],
   "source": [
    "# Current matrix solution for v1\n",
    "current_matrix = []\n",
    "adjoint_spinor = Dagger(v1) * gamma0\n",
    "for matrix in gamma_matrix:\n",
    "    current_matrix.append(adjoint_spinor * matrix * v1)\n",
    "for mm in current_matrix:\n",
    "    pprint(mm)"
   ]
  },
  {
   "cell_type": "code",
   "execution_count": 7,
   "id": "44aece7f",
   "metadata": {},
   "outputs": [
    {
     "name": "stdout",
     "output_type": "stream",
     "text": [
      "⎡            ⎛     _ __⎞               ⎛     _ __⎞⎤\n",
      "⎢⎛     b⋅pz⎞ ⎜_    b⋅pz⎟   ⎛ a⋅pz    ⎞ ⎜_    a⋅pz⎟⎥\n",
      "⎢⎜a + ─────⎟⋅⎜a + ─────⎟ + ⎜───── + b⎟⋅⎜b + ─────⎟⎥\n",
      "⎣⎝    E + m⎠ ⎝    E + m⎠   ⎝E + m    ⎠ ⎝    E + m⎠⎦\n",
      "[0]\n",
      "[0]\n",
      "⎡            ⎛     _ __⎞               ⎛     _ __⎞⎤\n",
      "⎢⎛     b⋅pz⎞ ⎜_    a⋅pz⎟   ⎛ a⋅pz    ⎞ ⎜_    b⋅pz⎟⎥\n",
      "⎢⎜a + ─────⎟⋅⎜b + ─────⎟ + ⎜───── + b⎟⋅⎜a + ─────⎟⎥\n",
      "⎣⎝    E + m⎠ ⎝    E + m⎠   ⎝E + m    ⎠ ⎝    E + m⎠⎦\n"
     ]
    }
   ],
   "source": [
    "psi = a*u1 + b*v1\n",
    "current_matrix = []\n",
    "adjoint_spinor = Dagger(psi) * gamma0\n",
    "for matrix in gamma_matrix:\n",
    "    m1 =  adjoint_spinor*matrix\n",
    "    current_matrix.append(m1 * psi)\n",
    "\n",
    "for mm in current_matrix:\n",
    "    pprint(mm)"
   ]
  },
  {
   "cell_type": "code",
   "execution_count": 8,
   "id": "e5f6c0ed",
   "metadata": {},
   "outputs": [
    {
     "name": "stdout",
     "output_type": "stream",
     "text": [
      "[4]\n",
      "[0]\n",
      "[0]\n",
      "[0]\n"
     ]
    }
   ],
   "source": [
    "# QUESTION 2\n",
    "u1m = Matrix([[1],\n",
    "             [0],\n",
    "             [-pz/(E+m)],\n",
    "             [0]])\n",
    "psi2 = u1 + u1m\n",
    "current_matrix = []\n",
    "adjoint_spinor = Dagger(psi2) * gamma0\n",
    "for matrix in gamma_matrix:\n",
    "    current_matrix.append(adjoint_spinor * matrix * psi2)\n",
    "for mm in current_matrix:\n",
    "    pprint(mm)"
   ]
  },
  {
   "cell_type": "code",
   "execution_count": 9,
   "id": "bfae4b33",
   "metadata": {},
   "outputs": [
    {
     "name": "stdout",
     "output_type": "stream",
     "text": [
      "[0]\n"
     ]
    }
   ],
   "source": [
    "probability = adjoint_spinor * psi2\n",
    "pprint(mm)"
   ]
  },
  {
   "cell_type": "code",
   "execution_count": null,
   "id": "24ecbbb2",
   "metadata": {},
   "outputs": [],
   "source": []
  }
 ],
 "metadata": {
  "kernelspec": {
   "display_name": "Python 3 (ipykernel)",
   "language": "python",
   "name": "python3"
  },
  "language_info": {
   "codemirror_mode": {
    "name": "ipython",
    "version": 3
   },
   "file_extension": ".py",
   "mimetype": "text/x-python",
   "name": "python",
   "nbconvert_exporter": "python",
   "pygments_lexer": "ipython3",
   "version": "3.9.13"
  }
 },
 "nbformat": 4,
 "nbformat_minor": 5
}
